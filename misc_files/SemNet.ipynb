{
 "cells": [
  {
   "cell_type": "code",
   "execution_count": 1,
   "metadata": {},
   "outputs": [],
   "source": [
    "import json"
   ]
  },
  {
   "cell_type": "code",
   "execution_count": 2,
   "metadata": {},
   "outputs": [],
   "source": [
    "verb_semnet_path = 'corpora/semnet20180205/verb-semnet.json'\n",
    "noun_semnet_path = 'corpora/semnet20180205/noun-semnet.json'"
   ]
  },
  {
   "cell_type": "code",
   "execution_count": 3,
   "metadata": {},
   "outputs": [],
   "source": [
    "def build_verb_features_dict(verb_semnet_path):\n",
    "    with open(verb_semnet_path, 'r') as file:\n",
    "        vs_features_dict = {}\n",
    "        #There are multiple VerbNet classes associated with each verb entry in the JSON \n",
    "        for verb_lemma, vn_classes in json.load(file).items():\n",
    "            vs_features = {}\n",
    "            for vn_class, fields in vn_classes.items():\n",
    "                vs_features_dict[vn_class] = fields['vs_features']\n",
    "            vs_features = {vn_class:fields['vs_features'] for vn_class, fields in vn_classes.items()}\n",
    "            vs_features_dict[verb_lemma] = vs_features\n",
    "\n",
    "        return vs_features_dict"
   ]
  },
  {
   "cell_type": "code",
   "execution_count": 4,
   "metadata": {},
   "outputs": [
    {
     "data": {
      "text/plain": [
       "{'calibratable_cos-45.6.1-1': [], 'run-51.3.2-2-1': ['+bodily_manner']}"
      ]
     },
     "execution_count": 4,
     "metadata": {},
     "output_type": "execute_result"
    }
   ],
   "source": [
    "vs_features_dict = build_verb_features_dict(verb_semnet_path)\n",
    "vs_features_dict['jump']"
   ]
  },
  {
   "cell_type": "code",
   "execution_count": 5,
   "metadata": {},
   "outputs": [
    {
     "data": {
      "text/plain": [
       "['+bodily_manner']"
      ]
     },
     "execution_count": 5,
     "metadata": {},
     "output_type": "execute_result"
    }
   ],
   "source": [
    "vs_features_dict['jump']['run-51.3.2-2-1']"
   ]
  },
  {
   "cell_type": "code",
   "execution_count": 6,
   "metadata": {},
   "outputs": [],
   "source": [
    "def show_verb_features(verb_lemma, vs_features_dict):\n",
    "    for class_id, vs_features_list in vs_features_dict[verb_lemma].items():\n",
    "        print(class_id+':')\n",
    "        if vs_features_list:\n",
    "            for verb_feature in vs_features_list:\n",
    "                print(verb_feature)\n",
    "            print()\n",
    "        else:\n",
    "            print('None found'+'\\n')"
   ]
  },
  {
   "cell_type": "code",
   "execution_count": 7,
   "metadata": {},
   "outputs": [
    {
     "name": "stdout",
     "output_type": "stream",
     "text": [
      "calibratable_cos-45.6.1-1:\n",
      "None found\n",
      "\n",
      "run-51.3.2-2-1:\n",
      "+bodily_manner\n",
      "\n"
     ]
    }
   ],
   "source": [
    "show_verb_features('jump', vs_features_dict)"
   ]
  },
  {
   "cell_type": "code",
   "execution_count": null,
   "metadata": {},
   "outputs": [],
   "source": [
    "with open(verb_semnet_path, 'r') as infile:\n",
    "    verb_semnet = json.load(infile)\n",
    "    print(verb_semnet.keys())"
   ]
  },
  {
   "cell_type": "code",
   "execution_count": null,
   "metadata": {},
   "outputs": [],
   "source": [
    "verb_semnet = json.load(open(verb_semnet_path, 'r'))\n",
    "print(sorted(list(verb_semnet.keys())))"
   ]
  },
  {
   "cell_type": "code",
   "execution_count": 21,
   "metadata": {},
   "outputs": [
    {
     "name": "stdout",
     "output_type": "stream",
     "text": [
      "['bump-18.4', 'carry-11.4', 'conduct-111.1', 'function-105.2.1', 'meander-47.7-1', 'preparing-26.3-1', 'run-51.3.2-2-1', 'use-105.1']\n"
     ]
    }
   ],
   "source": [
    "#Let's say we want to access the list of senses (keyed by VerbNet classses) assocaited with verb lemma 'run':\n",
    "print(list(verb_semnet['run'].keys()))"
   ]
  },
  {
   "cell_type": "code",
   "execution_count": 28,
   "metadata": {},
   "outputs": [
    {
     "data": {
      "text/plain": [
       "{'wn': ['run%2:42:03', 'run%2:38:13'],\n",
       " 'themroles': ['Theme', 'Location'],\n",
       " 'restrictions': [],\n",
       " 'fn_frame': 'Self_motion',\n",
       " 'predicates': ['contact', 'manner'],\n",
       " 'syn_frames': ['NP V PP.location'],\n",
       " 'vs_features': [],\n",
       " 'wn_synset': ['prevail', 'die_hard', 'persist', 'endure', 'run'],\n",
       " 'wn_supertype': ['be.v.01', 'travel.v.01'],\n",
       " 'common_objects': ['that',\n",
       "  'they',\n",
       "  'road',\n",
       "  'he',\n",
       "  'risk',\n",
       "  'himself',\n",
       "  'which',\n",
       "  'light',\n",
       "  'what',\n",
       "  'deficit'],\n",
       " 'on_definition': ['move quickly or freely, travel',\n",
       "  'be subject to, be affected by']}"
      ]
     },
     "execution_count": 28,
     "metadata": {},
     "output_type": "execute_result"
    }
   ],
   "source": [
    "#Now that we know what VerbNet senses are available for lemma 'run', let's access\n",
    "#the semantic components associated with VerbNet sense 'bump-18.4'\n",
    "verb_semnet['run']['bump-18.4']"
   ]
  },
  {
   "cell_type": "code",
   "execution_count": 32,
   "metadata": {},
   "outputs": [
    {
     "name": "stdout",
     "output_type": "stream",
     "text": [
      "['that', 'they', 'road', 'he', 'risk', 'himself', 'which', 'light', 'what', 'deficit']\n"
     ]
    }
   ],
   "source": [
    "verb_semnet['run']['bump-18.4']['common_objects']"
   ]
  },
  {
   "cell_type": "code",
   "execution_count": 33,
   "metadata": {},
   "outputs": [
    {
     "data": {
      "text/plain": [
       "dict_keys(['wn', 'themroles', 'restrictions', 'fn_frame', 'predicates', 'syn_frames', 'vs_features', 'wn_synset', 'wn_supertype', 'common_objects', 'on_definition'])"
      ]
     },
     "execution_count": 33,
     "metadata": {},
     "output_type": "execute_result"
    }
   ],
   "source": [
    "verb_semnet['run']['bump-18.4'].keys()"
   ]
  },
  {
   "cell_type": "code",
   "execution_count": null,
   "metadata": {},
   "outputs": [],
   "source": []
  }
 ],
 "metadata": {
  "kernelspec": {
   "display_name": "Python(uvi)",
   "language": "python",
   "name": "uvi"
  },
  "language_info": {
   "codemirror_mode": {
    "name": "ipython",
    "version": 3
   },
   "file_extension": ".py",
   "mimetype": "text/x-python",
   "name": "python",
   "nbconvert_exporter": "python",
   "pygments_lexer": "ipython3",
   "version": "3.6.5"
  }
 },
 "nbformat": 4,
 "nbformat_minor": 2
}
