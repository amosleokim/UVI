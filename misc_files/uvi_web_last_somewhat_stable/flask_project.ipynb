{
 "cells": [
  {
   "cell_type": "code",
   "execution_count": 8,
   "metadata": {},
   "outputs": [],
   "source": [
    "import os\n",
    "\n",
    "from flask import Flask\n",
    "from flask import render_template, redirect, url_for, request\n",
    "from flask_pymongo import PyMongo\n",
    "\n",
    "\n",
    "from forms import SomeForm\n",
    "\n",
    "app = Flask(__name__)\n",
    "\n",
    "#generate SECRET_KEY randomly on startup\n",
    "app.config['SECRET_KEY'] = os.urandom(16)\n",
    "app.config['MONGO_DBNAME'] = 'uvi_corpora'\n",
    "\n",
    "mongo = PyMongo(app)"
   ]
  },
  {
   "cell_type": "code",
   "execution_count": 9,
   "metadata": {},
   "outputs": [],
   "source": [
    "@app.route('/login', methods=[\"GET\", \"POST\"])\n",
    "def login():\n",
    "\tform = SomeForm()\n",
    "\tif form.validate_on_submit():\n",
    "# \t\treturn render_template('hello.html', name=form.name.data)\n",
    "\t\treturn redirect('/hello/'+form.name.data)\n",
    "\treturn render_template('login.html', form=form)\n",
    "\t\n",
    "@app.route('/')\n",
    "def index():\n",
    "\tvn_classes = mongo.db.verbnet.find_one({'class_id':'help-72.1'})\n",
    "\treturn render_template('index.html', vn_classes=vn_classes)\n",
    "\n",
    "@app.route('/hello/')\n",
    "@app.route('/hello/<name>')\n",
    "def hello_world(name=None):\n",
    "    return render_template('hello.html', name=name)\n",
    "\n",
    "@app.route('/search/')\n",
    "def search():\n",
    "\tform = SomeForm2\n",
    "\tattribute_1 = form.attribute_whatever.data\n",
    "\tattribute_2 = form.attribute_whatever_2.data\n",
    "    \n",
    "    \n",
    "\n",
    "\treturn redirect('results.html')\n",
    "\n",
    "\t'''\n",
    "\tsome function to parse attributes and turn that into a mongo query\n",
    "\tx = results of the query\n",
    "    '''\n",
    "    \n",
    "@app.route('/results/')\n",
    "def results(mongo_query):\n",
    "\treturn render_template('results.html', mongo_query=mongo_query)"
   ]
  },
  {
   "cell_type": "code",
   "execution_count": null,
   "metadata": {},
   "outputs": [],
   "source": [
    "import os\n",
    "import sys\n",
    "module_path = os.getcwd()\n",
    "if module_path not in sys.path:\n",
    "    sys.path.append(module_path)"
   ]
  },
  {
   "cell_type": "code",
   "execution_count": null,
   "metadata": {},
   "outputs": [],
   "source": [
    "module_path"
   ]
  },
  {
   "cell_type": "code",
   "execution_count": null,
   "metadata": {},
   "outputs": [],
   "source": [
    "sys.path"
   ]
  },
  {
   "cell_type": "code",
   "execution_count": null,
   "metadata": {},
   "outputs": [],
   "source": []
  }
 ],
 "metadata": {
  "kernelspec": {
   "display_name": "Python(verbnet)",
   "language": "python",
   "name": "verbnet"
  },
  "language_info": {
   "codemirror_mode": {
    "name": "ipython",
    "version": 3
   },
   "file_extension": ".py",
   "mimetype": "text/x-python",
   "name": "python",
   "nbconvert_exporter": "python",
   "pygments_lexer": "ipython3",
   "version": "3.6.5"
  }
 },
 "nbformat": 4,
 "nbformat_minor": 2
}
